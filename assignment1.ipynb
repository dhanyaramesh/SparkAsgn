{
 "cells": [
  {
   "cell_type": "code",
   "execution_count": 7,
   "metadata": {
    "collapsed": false
   },
   "outputs": [
    {
     "data": {
      "text/plain": [
       "[u'Date,City, State,Street,Railroad,Description']"
      ]
     },
     "execution_count": 7,
     "metadata": {},
     "output_type": "execute_result"
    }
   ],
   "source": [
    "from pyspark import SQLContext\n",
    "from pyspark.sql.types import *  \n",
    "import csv\n",
    "sqlContext = SQLContext(sc)\n",
    "\n",
    "df1 = sc.textFile(\"swift://notebooks.spark/RailAcc.csv\")\n"
   ]
  },
  {
   "cell_type": "code",
   "execution_count": 8,
   "metadata": {
    "collapsed": true
   },
   "outputs": [],
   "source": [
    "File1=df1.take(df1.count())"
   ]
  },
  {
   "cell_type": "code",
   "execution_count": 9,
   "metadata": {
    "collapsed": true
   },
   "outputs": [],
   "source": [
    "matrix = list(csv.reader(File1))"
   ]
  },
  {
   "cell_type": "code",
   "execution_count": 10,
   "metadata": {
    "collapsed": false
   },
   "outputs": [
    {
     "name": "stdout",
     "output_type": "stream",
     "text": [
      "Date\n"
     ]
    }
   ],
   "source": [
    "print matrix[0][0]"
   ]
  },
  {
   "cell_type": "code",
   "execution_count": 75,
   "metadata": {
    "collapsed": false,
    "scrolled": true
   },
   "outputs": [],
   "source": [
    "city={}\n",
    "citycount={}\n",
    "i=0\n",
    "for eachrow in matrix:\n",
    "    if eachrow[2] not in citycount:\n",
    "        city[eachrow[2]]=eachrow[2]\n",
    "        citycount[eachrow[2]]=1\n",
    "    else:\n",
    "        citycount[eachrow[2]] +=1\n",
    "   "
   ]
  },
  {
   "cell_type": "code",
   "execution_count": 53,
   "metadata": {
    "collapsed": false
   },
   "outputs": [
    {
     "name": "stdout",
     "output_type": "stream",
     "text": [
      "[('', 33), (' PENNSYLVANIA', 8), (' KENTUCKY', 4), (' TENNESSEE', 2), (' NEBRASKA', 2), (' NEW MEXICO', 1), (' ARKANSAS', 3), (' MISSOURI', 2), (' NORTH CAROLINA', 5), (' MISSISSIPPI', 6), (' NEW JERSEY', 6), (' KANSAS', 4), (' VIRGINIA', 5), (' MINNESOTA', 2), (' CALIFORNIA', 9), (' INDIANA', 12), (' SOUTH CAROLINA', 6), (' LOUISIANA', 3), (' WISCONSIN', 2), (' DELAWARE', 1), (' ARIZONA', 1), (' ILLINOIS', 13), (' OHIO', 8), (' MONTANA', 2), (' IOWA', 2), (' FLORIDA', 4), (' COLORADO', 1), (' MICHIGAN', 3), (' GEORGIA', 6), (' WASHINGTON', 4), (' OREGON', 1), (' State', 1), (' NEW YORK', 3), (' ALABAMA', 4), (' TEXAS', 14)]\n"
     ]
    }
   ],
   "source": [
    "print citycount.items()"
   ]
  },
  {
   "cell_type": "code",
   "execution_count": 68,
   "metadata": {
    "collapsed": false,
    "scrolled": true
   },
   "outputs": [],
   "source": [
    "x = [[None]*100]*2\n",
    "for k,v in citycount.iteritems():\n",
    "    temp =[k,v]\n",
    "    x.append(temp)"
   ]
  },
  {
   "cell_type": "code",
   "execution_count": 69,
   "metadata": {
    "collapsed": false
   },
   "outputs": [
    {
     "name": "stdout",
     "output_type": "stream",
     "text": [
      "[['', 33], [' PENNSYLVANIA', 8], [' KENTUCKY', 4], [' TENNESSEE', 2], [' NEBRASKA', 2], [' NEW MEXICO', 1], [' ARKANSAS', 3], [' MISSOURI', 2], [' NORTH CAROLINA', 5], [' MISSISSIPPI', 6], [' NEW JERSEY', 6], [' KANSAS', 4], [' VIRGINIA', 5], [' MINNESOTA', 2], [' CALIFORNIA', 9], [' INDIANA', 12], [' SOUTH CAROLINA', 6], [' LOUISIANA', 3], [' WISCONSIN', 2], [' DELAWARE', 1], [' ARIZONA', 1], [' ILLINOIS', 13], [' OHIO', 8], [' MONTANA', 2], [' IOWA', 2], [' FLORIDA', 4], [' COLORADO', 1], [' MICHIGAN', 3], [' GEORGIA', 6], [' WASHINGTON', 4], [' OREGON', 1], [' State', 1], [' NEW YORK', 3], [' ALABAMA', 4], [' TEXAS', 14]]\n"
     ]
    }
   ],
   "source": [
    "print x[2:]"
   ]
  },
  {
   "cell_type": "code",
   "execution_count": 73,
   "metadata": {
    "collapsed": true
   },
   "outputs": [],
   "source": [
    "FinalArray = [[None]*100]*2\n",
    "FinalArray = x[2:]"
   ]
  },
  {
   "cell_type": "code",
   "execution_count": 76,
   "metadata": {
    "collapsed": false
   },
   "outputs": [
    {
     "name": "stdout",
     "output_type": "stream",
     "text": [
      "{'': '', ' PENNSYLVANIA': ' PENNSYLVANIA', ' KENTUCKY': ' KENTUCKY', ' TENNESSEE': ' TENNESSEE', ' NEBRASKA': ' NEBRASKA', ' NEW MEXICO': ' NEW MEXICO', ' ARKANSAS': ' ARKANSAS', ' MISSOURI': ' MISSOURI', ' NORTH CAROLINA': ' NORTH CAROLINA', ' MISSISSIPPI': ' MISSISSIPPI', ' NEW JERSEY': ' NEW JERSEY', ' KANSAS': ' KANSAS', ' VIRGINIA': ' VIRGINIA', ' MINNESOTA': ' MINNESOTA', ' CALIFORNIA': ' CALIFORNIA', ' INDIANA': ' INDIANA', ' SOUTH CAROLINA': ' SOUTH CAROLINA', ' LOUISIANA': ' LOUISIANA', ' WISCONSIN': ' WISCONSIN', ' DELAWARE': ' DELAWARE', ' ARIZONA': ' ARIZONA', ' ILLINOIS': ' ILLINOIS', ' OHIO': ' OHIO', ' MONTANA': ' MONTANA', ' IOWA': ' IOWA', ' FLORIDA': ' FLORIDA', ' COLORADO': ' COLORADO', ' MICHIGAN': ' MICHIGAN', ' GEORGIA': ' GEORGIA', ' WASHINGTON': ' WASHINGTON', ' OREGON': ' OREGON', ' State': ' State', ' NEW YORK': ' NEW YORK', ' ALABAMA': ' ALABAMA', ' TEXAS': ' TEXAS'}\n"
     ]
    }
   ],
   "source": [
    "print city"
   ]
  },
  {
   "cell_type": "code",
   "execution_count": 87,
   "metadata": {
    "collapsed": true
   },
   "outputs": [],
   "source": [
    "fcname=[None]*0\n",
    "fccount = [None]*0\n",
    "for each in FinalArray:\n",
    "    fcname.append(each[0])\n",
    "    fccount.append(each[1])\n",
    "    "
   ]
  },
  {
   "cell_type": "code",
   "execution_count": 88,
   "metadata": {
    "collapsed": false
   },
   "outputs": [
    {
     "ename": "ImportError",
     "evalue": "No module named bokeh.charts",
     "output_type": "error",
     "traceback": [
      "\u001b[1;31m---------------------------------------------------------------------------\u001b[0m",
      "\u001b[1;31mImportError\u001b[0m                               Traceback (most recent call last)",
      "\u001b[1;32m<ipython-input-88-61e03997c10b>\u001b[0m in \u001b[0;36m<module>\u001b[1;34m()\u001b[0m\n\u001b[1;32m----> 1\u001b[1;33m \u001b[1;32mfrom\u001b[0m \u001b[0mbokeh\u001b[0m\u001b[1;33m.\u001b[0m\u001b[0mcharts\u001b[0m \u001b[1;32mimport\u001b[0m \u001b[0mBar\u001b[0m\u001b[1;33m,\u001b[0m \u001b[0moutput_file\u001b[0m\u001b[1;33m,\u001b[0m \u001b[0mshow\u001b[0m\u001b[1;33m\u001b[0m\u001b[0m\n\u001b[0m\u001b[0;32m      2\u001b[0m \u001b[1;33m\u001b[0m\u001b[0m\n\u001b[0;32m      3\u001b[0m \u001b[1;31m# prepare some data\u001b[0m\u001b[1;33m\u001b[0m\u001b[1;33m\u001b[0m\u001b[0m\n\u001b[0;32m      4\u001b[0m \u001b[0mdata\u001b[0m \u001b[1;33m=\u001b[0m \u001b[1;33m{\u001b[0m\u001b[0mfccount\u001b[0m\u001b[1;33m}\u001b[0m\u001b[1;33m\u001b[0m\u001b[0m\n\u001b[0;32m      5\u001b[0m \u001b[1;33m\u001b[0m\u001b[0m\n",
      "\u001b[1;31mImportError\u001b[0m: No module named bokeh.charts"
     ]
    }
   ],
   "source": [
    "from bokeh.charts import Bar, output_file, show\n",
    "\n",
    "# prepare some data\n",
    "data = {fccount}\n",
    "\n",
    "# output to static HTML file\n",
    "output_file(\"bar.html\")\n",
    "\n",
    "# create a new line chat with a title and axis labels\n",
    "p = Bar(data, cat=[fcname], title=\"Bar example\",\n",
    "        xlabel='cities', ylabel='accidents', width=400, height=400)\n",
    "\n",
    "# show the results\n",
    "show(p)"
   ]
  },
  {
   "cell_type": "code",
   "execution_count": 89,
   "metadata": {
    "collapsed": true
   },
   "outputs": [],
   "source": [
    "import matplotlib.pyplot as plt"
   ]
  },
  {
   "cell_type": "code",
   "execution_count": 92,
   "metadata": {
    "collapsed": false
   },
   "outputs": [],
   "source": [
    "x = np.arange(len(fccount))"
   ]
  },
  {
   "cell_type": "code",
   "execution_count": 93,
   "metadata": {
    "collapsed": false
   },
   "outputs": [
    {
     "data": {
      "text/plain": [
       "<Container object of 35 artists>"
      ]
     },
     "execution_count": 93,
     "metadata": {},
     "output_type": "execute_result"
    }
   ],
   "source": [
    "plt.bar(x, fccount)"
   ]
  },
  {
   "cell_type": "code",
   "execution_count": 98,
   "metadata": {
    "collapsed": false
   },
   "outputs": [
    {
     "data": {
      "text/plain": [
       "([<matplotlib.axis.XTick at 0x7faa6ab61050>,\n",
       "  <matplotlib.axis.XTick at 0x7faa6ab61210>,\n",
       "  <matplotlib.axis.XTick at 0x7faa6a83f710>,\n",
       "  <matplotlib.axis.XTick at 0x7faa6a83fc90>,\n",
       "  <matplotlib.axis.XTick at 0x7faa6a84e410>,\n",
       "  <matplotlib.axis.XTick at 0x7faa6a84ead0>,\n",
       "  <matplotlib.axis.XTick at 0x7faa6a858250>,\n",
       "  <matplotlib.axis.XTick at 0x7faa6a858990>,\n",
       "  <matplotlib.axis.XTick at 0x7faa6a863110>,\n",
       "  <matplotlib.axis.XTick at 0x7faa6a863810>,\n",
       "  <matplotlib.axis.XTick at 0x7faa6a863f50>,\n",
       "  <matplotlib.axis.XTick at 0x7faa6a86e6d0>,\n",
       "  <matplotlib.axis.XTick at 0x7faa6a86ee10>,\n",
       "  <matplotlib.axis.XTick at 0x7faa6a7f6590>,\n",
       "  <matplotlib.axis.XTick at 0x7faa6a7f6cd0>,\n",
       "  <matplotlib.axis.XTick at 0x7faa6a801450>,\n",
       "  <matplotlib.axis.XTick at 0x7faa6a801b90>,\n",
       "  <matplotlib.axis.XTick at 0x7faa6a80a310>,\n",
       "  <matplotlib.axis.XTick at 0x7faa6a80aa50>,\n",
       "  <matplotlib.axis.XTick at 0x7faa6a8151d0>,\n",
       "  <matplotlib.axis.XTick at 0x7faa6a815910>,\n",
       "  <matplotlib.axis.XTick at 0x7faa6a81f090>,\n",
       "  <matplotlib.axis.XTick at 0x7faa6a81f7d0>,\n",
       "  <matplotlib.axis.XTick at 0x7faa6a81ff10>,\n",
       "  <matplotlib.axis.XTick at 0x7faa6a829690>,\n",
       "  <matplotlib.axis.XTick at 0x7faa6a829dd0>,\n",
       "  <matplotlib.axis.XTick at 0x7faa6a7b3550>,\n",
       "  <matplotlib.axis.XTick at 0x7faa6a7b3c90>,\n",
       "  <matplotlib.axis.XTick at 0x7faa6a7bb410>,\n",
       "  <matplotlib.axis.XTick at 0x7faa6a7bbb50>,\n",
       "  <matplotlib.axis.XTick at 0x7faa6a7c92d0>,\n",
       "  <matplotlib.axis.XTick at 0x7faa6a7c9a10>,\n",
       "  <matplotlib.axis.XTick at 0x7faa6a7d2190>,\n",
       "  <matplotlib.axis.XTick at 0x7faa6a7d28d0>,\n",
       "  <matplotlib.axis.XTick at 0x7faa6a7dc050>],\n",
       " <a list of 35 Text xticklabel objects>)"
      ]
     },
     "execution_count": 98,
     "metadata": {},
     "output_type": "execute_result"
    }
   ],
   "source": [
    "plt.xticks(x + 0.5, fcname, rotation=90)"
   ]
  },
  {
   "cell_type": "code",
   "execution_count": 97,
   "metadata": {
    "collapsed": true
   },
   "outputs": [],
   "source": [
    "plt.show()"
   ]
  },
  {
   "cell_type": "code",
   "execution_count": null,
   "metadata": {
    "collapsed": true
   },
   "outputs": [],
   "source": []
  }
 ],
 "metadata": {
  "kernelspec": {
   "display_name": "Python 2",
   "language": "python",
   "name": "python2"
  },
  "language_info": {
   "codemirror_mode": {
    "name": "ipython",
    "version": 2
   },
   "file_extension": ".py",
   "mimetype": "text/x-python",
   "name": "python",
   "nbconvert_exporter": "python",
   "pygments_lexer": "ipython2",
   "version": "2.7.9"
  }
 },
 "nbformat": 4,
 "nbformat_minor": 0
}